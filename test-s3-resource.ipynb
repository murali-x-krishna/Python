{
 "cells": [
  {
   "cell_type": "code",
   "execution_count": 4,
   "metadata": {},
   "outputs": [],
   "source": [
    "import boto3\n",
    "\n",
    "s3 = boto3.resource('s3',\n",
    "                     endpoint_url='http://10.8.82.11',\n",
    "                     aws_access_key_id='rf3-dsm-user-deepsim', \n",
    "                     aws_secret_access_key='Sk/AGLR0oFq7IucyBIh8syi0jJi4Kyl6R+v0wDN/'\n",
    "                    )"
   ]
  },
  {
   "cell_type": "code",
   "execution_count": 2,
   "metadata": {},
   "outputs": [
    {
     "name": "stdout",
     "output_type": "stream",
     "text": [
      "Bucket name = rf3-dsm-bkt-deepsim\n"
     ]
    }
   ],
   "source": [
    "# Print out bucket names\n",
    "for bucket in s3.buckets.all():\n",
    "    print(Rf\"Bucket name = {bucket.name}\")"
   ]
  },
  {
   "cell_type": "code",
   "execution_count": 5,
   "metadata": {},
   "outputs": [
    {
     "name": "stdout",
     "output_type": "stream",
     "text": [
      "Starting object upload\n",
      "Ended object upload\n"
     ]
    }
   ],
   "source": [
    "# Create bucket object\n",
    "s3_bucket = s3.Bucket('rf3-dsm-bkt-deepsim')\n",
    "\n",
    "# Upload an object to the bucket\n",
    "print('Starting object upload')\n",
    "with open(r'\\\\rf3svap116n2\\c$\\Users\\mfg_kxiong\\Documents\\LotPredictorAnalysis\\Data\\LP_ActArrivals_20240412_0252.csv', 'rb') as data:\n",
    "    s3_bucket.put_object(Key='LP_ActArrivals_20240412_0252.csv', Body=data)\n",
    "print('Ended object upload')"
   ]
  },
  {
   "cell_type": "code",
   "execution_count": 10,
   "metadata": {},
   "outputs": [],
   "source": [
    "# Get the list of objects in the bucket using the Resource concept (s3 is a Resource)\n",
    "# NOTE: Resource is nicer to use than Client. The Client concept was the original AWS API abstraction\n",
    "for obj in bucket.objects.all():\n",
    "    print(obj.key, obj.last_modified)"
   ]
  },
  {
   "cell_type": "code",
   "execution_count": 8,
   "metadata": {},
   "outputs": [],
   "source": [
    "s3_object = s3.Object('rf3-dsm-bkt-deepsim', 'LP_ActArrivals_20240412_0252.csv')"
   ]
  },
  {
   "cell_type": "code",
   "execution_count": 11,
   "metadata": {},
   "outputs": [
    {
     "data": {
      "text/plain": [
       "{'ResponseMetadata': {'RequestId': '0a0fc022:18c12686493:ccd81:3f7',\n",
       "  'HostId': 'faa4eedec5d5b0a4bd9caf46ceaaeefd5276bb0156570949e754e33ab9913b2a',\n",
       "  'HTTPStatusCode': 204,\n",
       "  'HTTPHeaders': {'date': 'Fri, 03 May 2024 03:38:52 GMT',\n",
       "   'server': 'ViPR/1.0',\n",
       "   'x-amz-request-id': '0a0fc022:18c12686493:ccd81:3f7',\n",
       "   'x-amz-id-2': 'faa4eedec5d5b0a4bd9caf46ceaaeefd5276bb0156570949e754e33ab9913b2a',\n",
       "   'x-emc-previous-object-size': '0',\n",
       "   'content-length': '0'},\n",
       "  'RetryAttempts': 0}}"
      ]
     },
     "execution_count": 11,
     "metadata": {},
     "output_type": "execute_result"
    }
   ],
   "source": [
    "# Delete an object in a Bucket\n",
    "s3_object.delete()"
   ]
  }
 ],
 "metadata": {
  "kernelspec": {
   "display_name": "Python 3",
   "language": "python",
   "name": "python3"
  },
  "language_info": {
   "codemirror_mode": {
    "name": "ipython",
    "version": 3
   },
   "file_extension": ".py",
   "mimetype": "text/x-python",
   "name": "python",
   "nbconvert_exporter": "python",
   "pygments_lexer": "ipython3",
   "version": "3.9.12"
  }
 },
 "nbformat": 4,
 "nbformat_minor": 2
}
